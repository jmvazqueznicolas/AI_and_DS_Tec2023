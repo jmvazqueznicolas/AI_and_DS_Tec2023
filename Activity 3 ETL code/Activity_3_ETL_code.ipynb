{
  "nbformat": 4,
  "nbformat_minor": 0,
  "metadata": {
    "colab": {
      "provenance": []
    },
    "kernelspec": {
      "name": "python3",
      "display_name": "Python 3"
    },
    "language_info": {
      "name": "python"
    }
  },
  "cells": [
    {
      "cell_type": "markdown",
      "source": [
        "**PIMA Indians Diabetes Dataset**\n",
        "\n",
        "The PIMA Indians Diabetes Dataset is a well-known dataset in the machine learning community, primarily used for the purpose of binary classification. It originates from a study carried out by the National Institute of Diabetes and Digestive and Kidney Diseases and aims to diagnostically predict whether a patient has diabetes based on certain health metrics. This dataset is particularly significant because of the prevalence of diabetes among the PIMA Indian heritage group.\n",
        "\n",
        "**Key Features of the Dataset:**\n",
        "\n",
        "1. **Pregnancies:** Number of times pregnant.\n",
        "2. **Glucose:** Plasma glucose concentration over 2 hours in an oral glucose tolerance test.\n",
        "3. **BloodPressure:** Diastolic blood pressure (mm Hg).\n",
        "4. **SkinThickness:** Triceps skinfold thickness (mm).\n",
        "5. **Insulin:** 2-Hour serum insulin (mu U/ml).\n",
        "6. **BMI:** Body mass index (weight in kg/(height in m)^2).\n",
        "7. **DiabetesPedigreeFunction:** A function that scores the likelihood of diabetes based on family history.\n",
        "8. **Age:** Age in years.\n",
        "9. **Outcome:** Class variable (0 if non-diabetic, 1 if diabetic).\n"
      ],
      "metadata": {
        "id": "S8uPrOXvG7OY"
      }
    },
    {
      "cell_type": "markdown",
      "source": [
        "### Extraction"
      ],
      "metadata": {
        "id": "S2R7aUqmWCBb"
      }
    },
    {
      "cell_type": "markdown",
      "source": [
        "Load libraries"
      ],
      "metadata": {
        "id": "m5lDA5_yWhxW"
      }
    },
    {
      "cell_type": "code",
      "source": [
        "# your code\n"
      ],
      "metadata": {
        "id": "4laFLXnsOpV-"
      },
      "execution_count": null,
      "outputs": []
    },
    {
      "cell_type": "markdown",
      "source": [
        "Load and show the dataset. Assign names to each column according to the 9 Key Features of the Dataset."
      ],
      "metadata": {
        "id": "mOT2UROxWmDr"
      }
    },
    {
      "cell_type": "code",
      "source": [
        "# your code\n"
      ],
      "metadata": {
        "id": "GUhm1tamRxsi"
      },
      "execution_count": null,
      "outputs": []
    },
    {
      "cell_type": "markdown",
      "source": [
        "### Transformation"
      ],
      "metadata": {
        "id": "qD-OXOD9TouQ"
      }
    },
    {
      "cell_type": "markdown",
      "source": [
        "Apply data imputation for the columns: Glucose, BloodPressure, SkinThickness, Insulin, and BMI. In this dataset, a zero value is considered a missing value.\n"
      ],
      "metadata": {
        "id": "tm3CjupvTweR"
      }
    },
    {
      "cell_type": "code",
      "source": [
        "# your code\n"
      ],
      "metadata": {
        "id": "zmuFWdoGMrd3"
      },
      "execution_count": null,
      "outputs": []
    },
    {
      "cell_type": "markdown",
      "source": [
        "Apply feature engineering to create a new data column to categorize the age into three categories."
      ],
      "metadata": {
        "id": "J4MzN4aeUqGO"
      }
    },
    {
      "cell_type": "code",
      "source": [
        "# your code\n"
      ],
      "metadata": {
        "id": "55BCA9B7UMvO"
      },
      "execution_count": null,
      "outputs": []
    },
    {
      "cell_type": "markdown",
      "source": [
        "### Load"
      ],
      "metadata": {
        "id": "mBW73JcGWHUn"
      }
    },
    {
      "cell_type": "markdown",
      "source": [
        "Load the modified dataset in a CSV and Json format."
      ],
      "metadata": {
        "id": "xeoV_Rr5WNiA"
      }
    },
    {
      "cell_type": "code",
      "source": [
        "# your code\n"
      ],
      "metadata": {
        "id": "imRStRkAMy5j"
      },
      "execution_count": 12,
      "outputs": []
    }
  ]
}