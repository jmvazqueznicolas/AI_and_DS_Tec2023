{
  "nbformat": 4,
  "nbformat_minor": 0,
  "metadata": {
    "colab": {
      "provenance": []
    },
    "kernelspec": {
      "name": "python3",
      "display_name": "Python 3"
    },
    "language_info": {
      "name": "python"
    }
  },
  "cells": [
    {
      "cell_type": "markdown",
      "source": [
        "# Classification Metrics"
      ],
      "metadata": {
        "id": "djh6vTm2BnEN"
      }
    },
    {
      "cell_type": "code",
      "source": [
        "# Import the necessary libraries.\n",
        "import numpy as np\n",
        "import pandas as pd\n",
        "from sklearn.datasets import load_breast_cancer\n",
        "from sklearn.model_selection import train_test_split\n",
        "from sklearn.metrics import accuracy_score, precision_score, recall_score, f1_score, confusion_matrix\n",
        "from sklearn.ensemble import RandomForestClassifier\n",
        "from sklearn.linear_model import LogisticRegression\n",
        "from sklearn.svm import SVC\n",
        "import seaborn as sns\n",
        "import matplotlib.pyplot as plt"
      ],
      "metadata": {
        "id": "U30tlATz4cdL"
      },
      "execution_count": null,
      "outputs": []
    },
    {
      "cell_type": "code",
      "source": [
        "# Function to visualize the confusion matrix.\n",
        "def plot_confusion_matrix(conf_matrix, model_name):\n",
        "    plt.figure(figsize=(4, 3))\n",
        "    sns.heatmap(conf_matrix, annot=True, fmt='g', cmap='Blues')\n",
        "    plt.title(f'Matriz de Confusión para {model_name}')\n",
        "    plt.xlabel('Predicción')\n",
        "    plt.ylabel('Real')\n",
        "    plt.show()\n",
        "\n",
        "# Función para entrenar y evaluar un modelo\n",
        "def evaluate_model(model, X_train, y_train, X_test, y_test):\n",
        "    model.fit(X_train, y_train)\n",
        "    y_pred = model.predict(X_test)\n",
        "\n",
        "    accuracy = accuracy_score(y_test, y_pred)\n",
        "    precision = precision_score(y_test, y_pred)\n",
        "    recall = recall_score(y_test, y_pred)\n",
        "    f1 = f1_score(y_test, y_pred)\n",
        "    conf_matrix = confusion_matrix(y_test, y_pred)\n",
        "    TN, FP, FN, TP = conf_matrix.ravel()\n",
        "\n",
        "    return accuracy, precision, recall, f1, TN, FP, FN, TP"
      ],
      "metadata": {
        "id": "M2KrE6O7iDgC"
      },
      "execution_count": null,
      "outputs": []
    },
    {
      "cell_type": "code",
      "source": [
        "# Load the dataset.\n",
        "data = load_breast_cancer()\n",
        "X = data.data\n",
        "y = data.target\n",
        "# Convert to pandas dataframe\n",
        "df = pd.DataFrame(data.data, columns=data.feature_names)\n",
        "df['target'] = data.target\n",
        "# Displaying the first 5 rows of the dataset.\n",
        "df.head(10)"
      ],
      "metadata": {
        "id": "zMBzO-abiNux"
      },
      "execution_count": null,
      "outputs": []
    },
    {
      "cell_type": "code",
      "source": [
        "# Split the dataset.\n",
        "X_train, X_test, y_train, y_test = train_test_split(X, y, test_size=0.3, random_state=42)"
      ],
      "metadata": {
        "id": "IRBNi116i2Og"
      },
      "execution_count": null,
      "outputs": []
    },
    {
      "cell_type": "code",
      "source": [
        "# Model List\n",
        "models = {\n",
        "    \"Random Forest\": RandomForestClassifier(n_estimators=100, random_state=42),\n",
        "    \"Logistic Regression\": LogisticRegression(max_iter=10000, random_state=42),\n",
        "    \"SVM\": SVC(random_state=42)\n",
        "}\n",
        "\n",
        "# Train and evaluate each model.\n",
        "for name, model in models.items():\n",
        "    accuracy, precision, recall, f1, TN, FP, FN, TP = evaluate_model(model, X_train, y_train, X_test, y_test)\n",
        "    conf_matrix = np.array([[TN, FP], [FN, TP]])\n",
        "    plot_confusion_matrix(conf_matrix, name)\n",
        "\n",
        "    print(f\"Model: {name}\")\n",
        "    print(f\"Accuracy: {accuracy:.4f}\")\n",
        "    print(f\"Precision: {precision:.4f}\")\n",
        "    print(f\"Recall: {recall:.4f}\")\n",
        "    print(f\"F1-Score: {f1:.4f}\")\n",
        "    print(\"\\nConfusion Matrix:\")\n",
        "    print(f\"TP: {TP}, FP: {FP}\")\n",
        "    print(f\"FN: {FN}, TN: {TN}\")\n",
        "    print(\"---------------------------\\n\")"
      ],
      "metadata": {
        "id": "p9X0QsCYiTTY"
      },
      "execution_count": null,
      "outputs": []
    }
  ]
}