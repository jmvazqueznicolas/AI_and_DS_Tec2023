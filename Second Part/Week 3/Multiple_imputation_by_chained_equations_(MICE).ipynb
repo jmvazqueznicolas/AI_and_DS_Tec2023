{
  "nbformat": 4,
  "nbformat_minor": 0,
  "metadata": {
    "colab": {
      "provenance": []
    },
    "kernelspec": {
      "name": "python3",
      "display_name": "Python 3"
    },
    "language_info": {
      "name": "python"
    }
  },
  "cells": [
    {
      "cell_type": "markdown",
      "source": [
        "# Multiple imputation by chained equations (MICE)"
      ],
      "metadata": {
        "id": "vky3ZZq1Q9t5"
      }
    },
    {
      "cell_type": "code",
      "execution_count": null,
      "metadata": {
        "id": "cRE-g2CKeFb9"
      },
      "outputs": [],
      "source": [
        "import pandas as pd\n",
        "import numpy as np\n",
        "import seaborn as sns\n",
        "import matplotlib.pyplot as plt\n",
        "\n",
        "# Load Titanic dataset\n",
        "data = sns.load_dataset('titanic')\n",
        "\n",
        "# Check missing data\n",
        "print(data.isnull().sum())"
      ]
    },
    {
      "cell_type": "code",
      "source": [
        "from sklearn.experimental import enable_iterative_imputer\n",
        "from sklearn.impute import IterativeImputer\n",
        "\n",
        "# Using MICE to impute missing age values\n",
        "mice_imputer = IterativeImputer()\n",
        "data['age_mice'] = mice_imputer.fit_transform(data[['age']])\n",
        "\n",
        "data[['age', 'age_mice']].head(30)"
      ],
      "metadata": {
        "id": "SHwjQ8sIeSK8"
      },
      "execution_count": null,
      "outputs": []
    },
    {
      "cell_type": "code",
      "source": [
        "plt.figure(figsize=(8, 6))\n",
        "\n",
        "# Original data\n",
        "sns.kdeplot(data['age'].dropna(), linestyle='--', label='Original')\n",
        "\n",
        "# MICE Imputed data\n",
        "sns.kdeplot(data['age_mice'], linestyle='-', label='MICE Imputed')\n",
        "\n",
        "plt.title('Age Distribution: Original vs. MICE Imputed')\n",
        "plt.show()"
      ],
      "metadata": {
        "id": "96iKcObYegFz"
      },
      "execution_count": null,
      "outputs": []
    }
  ]
}