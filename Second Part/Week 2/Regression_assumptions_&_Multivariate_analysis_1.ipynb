{
  "nbformat": 4,
  "nbformat_minor": 0,
  "metadata": {
    "colab": {
      "provenance": []
    },
    "kernelspec": {
      "name": "python3",
      "display_name": "Python 3"
    },
    "language_info": {
      "name": "python"
    }
  },
  "cells": [
    {
      "cell_type": "markdown",
      "source": [
        "# Regression assumptions"
      ],
      "metadata": {
        "id": "zQhXVu2QOKrK"
      }
    },
    {
      "cell_type": "code",
      "source": [
        "# Import necessary libraries\n",
        "import numpy as np\n",
        "import pandas as pd\n",
        "import statsmodels.api as sm\n",
        "import matplotlib.pyplot as plt\n",
        "from sklearn.datasets import load_wine\n",
        "from statsmodels.stats.outliers_influence import variance_inflation_factor"
      ],
      "metadata": {
        "id": "oO8Gosv7F56y"
      },
      "execution_count": 2,
      "outputs": []
    },
    {
      "cell_type": "code",
      "source": [
        "# Load the wine dataset\n",
        "wine_data = load_wine()\n",
        "df = pd.DataFrame(wine_data.data, columns=wine_data.feature_names)\n",
        "\n",
        "# We'll try to predict 'alcohol' based on other features\n",
        "X = df.drop('alcohol', axis=1)\n",
        "X = sm.add_constant(X)  # Add a constant column for the intercept term\n",
        "y = df['alcohol']\n",
        "model = sm.OLS(y, X).fit()\n",
        "predictions = model.predict(X)\n",
        "residuals = model.resid"
      ],
      "metadata": {
        "id": "yq9nLQBnGEOq"
      },
      "execution_count": 3,
      "outputs": []
    },
    {
      "cell_type": "code",
      "source": [
        "# 1. Linearity: Scatter plot of observed vs predicted values\n",
        "plt.scatter(y, predictions)\n",
        "plt.xlabel(\"Observed values\")\n",
        "plt.ylabel(\"Predicted values\")\n",
        "plt.title(\"Observed vs. Predicted Values\")\n",
        "plt.show()"
      ],
      "metadata": {
        "id": "9Tr_dpazGEVN"
      },
      "execution_count": null,
      "outputs": []
    },
    {
      "cell_type": "code",
      "source": [
        "# 2. Independence: Residuals vs. Order plot\n",
        "plt.scatter(range(len(residuals)), residuals)\n",
        "plt.xlabel(\"Order\")\n",
        "plt.ylabel(\"Residuals\")\n",
        "plt.title(\"Residuals vs. Order\")\n",
        "plt.show()"
      ],
      "metadata": {
        "id": "vP96v4k1GLpY"
      },
      "execution_count": null,
      "outputs": []
    },
    {
      "cell_type": "code",
      "source": [
        "# 3. Homoscedasticity: Scatter plot of predicted values vs. residuals\n",
        "plt.scatter(predictions, residuals)\n",
        "plt.xlabel(\"Predicted values\")\n",
        "plt.ylabel(\"Residuals\")\n",
        "plt.title(\"Predicted vs. Residuals\")\n",
        "plt.show()"
      ],
      "metadata": {
        "id": "aOS-c4DUGNKy"
      },
      "execution_count": null,
      "outputs": []
    },
    {
      "cell_type": "code",
      "source": [
        "# 4. Normality of errors: QQ-plot\n",
        "sm.qqplot(residuals, line='45')\n",
        "plt.title(\"QQ-plot of Residuals\")\n",
        "plt.show()"
      ],
      "metadata": {
        "id": "UGddygf-GPTv"
      },
      "execution_count": null,
      "outputs": []
    },
    {
      "cell_type": "code",
      "source": [
        "# 5. No Multicollinearity: VIF (Variance Inflation Factor)\n",
        "vif_data = pd.DataFrame()\n",
        "vif_data[\"Variable\"] = X.columns\n",
        "vif_data[\"VIF\"] = [variance_inflation_factor(X.values, i) for i in range(X.shape[1])]\n",
        "print(vif_data)"
      ],
      "metadata": {
        "id": "VUNhkB8CGQpS"
      },
      "execution_count": null,
      "outputs": []
    },
    {
      "cell_type": "markdown",
      "source": [
        "# QQ-plot for residual error"
      ],
      "metadata": {
        "id": "IIBlltmvp0-i"
      }
    },
    {
      "cell_type": "code",
      "source": [
        "# Import necessary libraries\n",
        "import matplotlib.pyplot as plt\n",
        "import statsmodels.api as sm\n",
        "from statsmodels.graphics.gofplots import qqplot\n",
        "from sklearn.datasets import fetch_california_housing\n",
        "import pandas as pd\n",
        "\n",
        "# Load the California housing dataset\n",
        "california_data = fetch_california_housing()\n",
        "california_df = pd.DataFrame(california_data.data, columns=california_data.feature_names)\n",
        "california_df['MedHouseVal'] = california_data.target\n",
        "\n",
        "# Define independent (X) and dependent (y) variables\n",
        "X = california_df['MedInc']  # Median Income\n",
        "y = california_df['MedHouseVal']  # Median house value\n",
        "\n",
        "# Add a constant to X (required for statsmodels regression model)\n",
        "X = sm.add_constant(X)\n",
        "\n",
        "# Fit the linear regression model\n",
        "model = sm.OLS(y, X).fit()\n",
        "\n",
        "# Get the residuals\n",
        "residuals = model.resid\n",
        "\n",
        "# Create QQ-plot for the residuals\n",
        "plt.figure(figsize=(8, 6))\n",
        "qqplot(residuals, line='s')\n",
        "plt.title(\"QQ-plot of Residuals for California Housing Model\")\n",
        "plt.show()\n"
      ],
      "metadata": {
        "id": "Vzs8vgJ2rN1v"
      },
      "execution_count": null,
      "outputs": []
    },
    {
      "cell_type": "code",
      "source": [
        "# Import necessary libraries\n",
        "import numpy as np\n",
        "import matplotlib.pyplot as plt\n",
        "import statsmodels.api as sm\n",
        "from statsmodels.graphics.gofplots import qqplot\n",
        "\n",
        "# Generate a simple dataset\n",
        "np.random.seed(42)  # Setting a seed for reproducibility\n",
        "X = 2.5 * np.random.randn(100) + 1.5   # Array of 100 values with mean = 1.5, stddev = 2.5\n",
        "res = 0.5 * np.random.randn(100)       # Generate 100 residual terms\n",
        "y = 2 + 0.3 * X + res                  # Actual values of Y\n",
        "\n",
        "# Convert X to a 2D array\n",
        "X_2D = X.reshape(-1, 1)\n",
        "\n",
        "# Add a constant to X (required for statsmodels regression model)\n",
        "X_const = sm.add_constant(X_2D)\n",
        "\n",
        "# Fit the linear regression model\n",
        "model = sm.OLS(y, X_const).fit()\n",
        "\n",
        "# Get the residuals\n",
        "residuals = model.resid\n",
        "\n",
        "# Get the fitted values (predictions)\n",
        "y_pred = model.predict(X_const)\n",
        "\n",
        "# Scatter plot of data and regression line\n",
        "plt.figure(figsize=(8, 6))\n",
        "plt.scatter(X, y, label='Data', alpha=0.5)\n",
        "plt.plot(X, y_pred, color='red', label='Regression Line')\n",
        "plt.xlabel('X values')\n",
        "plt.ylabel('y values')\n",
        "plt.title('Synthetic Data and Fitted Regression Line')\n",
        "plt.legend()\n",
        "plt.show()\n",
        "\n",
        "# Create QQ-plot for the residuals\n",
        "plt.figure(figsize=(8, 6))\n",
        "qqplot(residuals, line='s')\n",
        "plt.title(\"QQ-plot of Residuals for Simple Synthetic Dataset\")\n",
        "plt.show()\n"
      ],
      "metadata": {
        "id": "r0x6bEM8rmEf"
      },
      "execution_count": null,
      "outputs": []
    },
    {
      "cell_type": "markdown",
      "source": [
        "# Multivariate analysis 1"
      ],
      "metadata": {
        "id": "FqvySjZ_Uidv"
      }
    },
    {
      "cell_type": "code",
      "source": [
        "import seaborn as sns\n",
        "import numpy as np\n",
        "import matplotlib.pyplot as plt\n",
        "\n",
        "# Load the tips dataset\n",
        "tips = sns.load_dataset('tips')"
      ],
      "metadata": {
        "id": "CDfoOsesUmY5"
      },
      "execution_count": 11,
      "outputs": []
    },
    {
      "cell_type": "code",
      "source": [
        "# Display the first few rows of the dataset to understand its structure\n",
        "print(\"First few rows of the dataset:\")\n",
        "tips.head()"
      ],
      "metadata": {
        "id": "Vn_n8thSUrLG"
      },
      "execution_count": null,
      "outputs": []
    },
    {
      "cell_type": "code",
      "source": [
        "# Display basic statistics about the dataset\n",
        "print(\"\\nBasic statistics of the dataset:\")\n",
        "tips.describe()"
      ],
      "metadata": {
        "id": "QTT_ZO14UtAO"
      },
      "execution_count": null,
      "outputs": []
    },
    {
      "cell_type": "code",
      "source": [
        "# Plot the distribution of 'total_bill' and 'tip' using histograms\n",
        "plt.figure(figsize=(12, 5))\n",
        "\n",
        "plt.subplot(1, 2, 1)\n",
        "sns.histplot(tips['total_bill'], kde=True)\n",
        "plt.title('Distribution of Total Bill')\n",
        "\n",
        "plt.subplot(1, 2, 2)\n",
        "sns.histplot(tips['tip'], kde=True)\n",
        "plt.title('Distribution of Tips')\n",
        "\n",
        "plt.tight_layout()\n",
        "plt.show()\n",
        "\n",
        "# Scatter plot between 'total_bill' and 'tip' to see their relationship visually\n",
        "sns.scatterplot(data=tips, x='total_bill', y='tip')\n",
        "plt.title(\"Scatter plot between 'total_bill' and 'tip'\")\n",
        "plt.show()\n",
        "\n",
        "# Compute the covariance between 'total_bill' and 'tip'\n",
        "cov_matrix = np.cov(tips['total_bill'], tips['tip'])\n",
        "cov_value = cov_matrix[0, 1]\n",
        "\n",
        "print(f\"Covariance matrix: {cov_matrix}\")\n",
        "print(f\"Covariance between 'total_bill' and 'tip': {cov_value:.2f}\")"
      ],
      "metadata": {
        "id": "P_zgL4XkUvr_"
      },
      "execution_count": null,
      "outputs": []
    },
    {
      "cell_type": "code",
      "source": [
        "import numpy as np\n",
        "import seaborn as sns\n",
        "from numpy.linalg import inv\n",
        "\n",
        "# Load the tips dataset\n",
        "tips = sns.load_dataset('tips')\n",
        "\n",
        "# Create the design matrix X with an intercept\n",
        "X = np.column_stack((np.ones(tips.shape[0]), tips['total_bill']))\n",
        "\n",
        "# Compute the Hat matrix\n",
        "H = X @ inv(X.T @ X) @ X.T\n",
        "\n",
        "# For a visual representation, we can display a portion of the Hat matrix\n",
        "print(H[:5, :5])"
      ],
      "metadata": {
        "id": "338VlHYqUwV3"
      },
      "execution_count": null,
      "outputs": []
    },
    {
      "cell_type": "code",
      "source": [
        "print(H.shape)"
      ],
      "metadata": {
        "colab": {
          "base_uri": "https://localhost:8080/"
        },
        "id": "4drj_zFeUz3G",
        "outputId": "c1978a49-cadb-43dd-eedc-56016ae7ea9f"
      },
      "execution_count": 17,
      "outputs": [
        {
          "output_type": "stream",
          "name": "stdout",
          "text": [
            "(244, 244)\n"
          ]
        }
      ]
    },
    {
      "cell_type": "code",
      "source": [
        "resul = H*H\n",
        "rest = resul - H\n",
        "print(rest)"
      ],
      "metadata": {
        "id": "E2jQZTx-U1ae"
      },
      "execution_count": null,
      "outputs": []
    }
  ]
}