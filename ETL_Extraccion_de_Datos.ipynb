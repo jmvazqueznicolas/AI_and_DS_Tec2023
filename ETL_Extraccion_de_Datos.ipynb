{
  "cells": [
    {
      "cell_type": "markdown",
      "metadata": {},
      "source": [
        "<a href=\"https://colab.research.google.com/github/jmvazqueznicolas/AI_and_DS_Tec2023/blob/main/ETL_Extraccion_de_Datos.ipynb\" target=\"_parent\"><img src=\"https://colab.research.google.com/assets/colab-badge.svg\" alt=\"Open In Colab\"/></a>"
      ]
    },
    {
      "cell_type": "markdown",
      "metadata": {
        "id": "_0mfi59e_7ic"
      },
      "source": [
        "# ETL (Extraction, Transformation, Load)\n",
        "El término ETL se refiere a 'Extract, Transform, Load', que son tres funciones fundamentales en la gestión de bases de datos. Los sistemas ETL se utilizan comúnmente en los procesos de data warehousing, pero en esencia, son cruciales para la gestión de datos en cualquier contexto"
      ]
    },
    {
      "cell_type": "markdown",
      "metadata": {
        "id": "AarQDyNo__6d"
      },
      "source": [
        "## Extracción desde archivos\n",
        "\n"
      ]
    },
    {
      "cell_type": "markdown",
      "metadata": {
        "id": "6eitoZuKATLD"
      },
      "source": [
        "### CSV (Comma Separated Values)\n",
        "El formato CSV es un tipo de archivo de texto plano que utiliza valores específicos separados por comas (o cualquier otro delimitador, como un tabulador o punto y coma) para representar los datos en forma tabular. Cada línea del archivo corresponde a una fila en la tabla, y los valores separados por comas en cada línea representan las diferentes columnas. Los archivos CSV son una forma común y simple de almacenar datos tabulares y son compatibles con una amplia variedad de aplicaciones, incluyendo hojas de cálculo y bases de datos.\n"
      ]
    },
    {
      "cell_type": "code",
      "execution_count": null,
      "metadata": {
        "colab": {
          "base_uri": "https://localhost:8080/",
          "height": 206
        },
        "id": "1-wwuKrt8-9V",
        "outputId": "416a8fdb-c18a-4975-c4cd-2111e2b79db7"
      },
      "outputs": [],
      "source": [
        "import _____ as _____\n",
        "\n",
        "# Suponiendo que descargaste el archivo 'gapminder.csv'\n",
        "url = \"https://raw.githubusercontent.com/zief0002/miniature-garbanzo/main/data/gapminder.csv\"\n",
        "data = pd._____(url)\n",
        "\n",
        "# Mostrando las primeras filas del dataset\n",
        "data.head()"
      ]
    },
    {
      "cell_type": "markdown",
      "metadata": {
        "id": "zE0xzvJ3Jlpz"
      },
      "source": [
        "### JSON (JavaScript Object Notation)\n",
        "JSON es un formato de archivo de texto plano que se utiliza para almacenar y transmitir datos en el formato de objeto de JavaScript. Los datos en formato JSON tienen una estructura de pares clave-valor que es fácil de leer y de escribir. A diferencia de los archivos CSV, los archivos JSON pueden almacenar estructuras de datos más complejas, como listas y objetos anidados. Esto los hace ideales para trabajar con datos que tienen una estructura no tabular o jerárquica.\n",
        "\n"
      ]
    },
    {
      "cell_type": "code",
      "execution_count": null,
      "metadata": {
        "colab": {
          "base_uri": "https://localhost:8080/",
          "height": 424
        },
        "id": "KyR-NolrGTXh",
        "outputId": "b63f2504-3725-41a4-a721-9111dcc62a1e"
      },
      "outputs": [],
      "source": [
        "# URL del archivo JSON\n",
        "url = \"https://raw.githubusercontent.com/Biuni/PokemonGO-Pokedex/master/pokedex.json\"\n",
        "\n",
        "# Hacemos una solicitud para obtener los datos\n",
        "data = requests.get(url)._____()\n",
        "\n",
        "# Extraemos la información de los Pokémon del diccionario\n",
        "pokemon_data = data[\"pokemon\"]\n",
        "\n",
        "# Convertimos la lista de diccionarios en un DataFrame\n",
        "pokemon_df = pd._____(pokemon_data)\n",
        "\n",
        "# Mostrar las primeras filas del DataFrame\n",
        "pokemon_df.____()"
      ]
    },
    {
      "cell_type": "markdown",
      "metadata": {
        "id": "I3OfEI6eLDai"
      },
      "source": [
        "### Excel\n",
        "Excel es una aplicación de hoja de cálculo desarrollada por Microsoft que utiliza archivos con formatos .xls o .xlsx para almacenar datos tabulares y permitir la manipulación de datos y el cálculo de fórmulas. Los archivos de Excel son un formato común para la entrada de datos, especialmente en entornos empresariales. Python puede leer archivos de Excel utilizando bibliotecas como pandas, pero debido a su naturaleza binaria y su estructura de archivo más compleja, leer y escribir archivos de Excel puede ser un poco más lento que trabajar con archivos CSV o JSON."
      ]
    },
    {
      "cell_type": "code",
      "execution_count": null,
      "metadata": {
        "colab": {
          "base_uri": "https://localhost:8080/",
          "height": 453
        },
        "id": "tt8l_wmLLKFz",
        "outputId": "14e10664-f2b2-4486-bc08-8bfade4f4196"
      },
      "outputs": [],
      "source": [
        "# URL del archivo Excel\n",
        "url = 'https://github.com/PacktPublishing/Tableau-10-Best-Practices/raw/master/Chapter%205/Sample%20-%20Superstore%20Sales%20(Excel).xls'\n",
        "\n",
        "# Leer los datos del Excel\n",
        "data = pd._____(url)\n",
        "\n",
        "# Mostrar las primeras filas del DataFrame\n",
        "data._____()"
      ]
    },
    {
      "cell_type": "markdown",
      "metadata": {
        "id": "SPs6JftuamVm"
      },
      "source": [
        "## Extracción desde bases de datos"
      ]
    },
    {
      "cell_type": "markdown",
      "metadata": {
        "id": "uVMuKKK9aqv2"
      },
      "source": [
        "### Sistemas de Gestión de Bases de Datos\n",
        "Son programas de software que se utilizan para gestionar bases de datos. Son el intermediario entre los usuarios y las bases de datos y gestionan cómo se crean, consultan, actualizan y administran los datos en una base de datos."
      ]
    },
    {
      "cell_type": "code",
      "execution_count": null,
      "metadata": {
        "colab": {
          "base_uri": "https://localhost:8080/",
          "height": 484
        },
        "id": "NTSRCtRws2fM",
        "outputId": "16e32990-493f-46d7-85a5-66c99b4b7cd9"
      },
      "outputs": [],
      "source": [
        "# Descargar el archivo de la base de datos\n",
        "!wget https://github.com/lerocha/chinook-database/raw/master/ChinookDatabase/DataSources/Chinook_Sqlite.sqlite\n",
        "\n",
        "# Cargar la base de datos en SQLite\n",
        "import _____\n",
        "conn = sqlite3._____('Chinook_Sqlite.sqlite')\n",
        "\n",
        "# Ejecutar una consulta SQL y cargar los resultados en un DataFrame de Pandas\n",
        "df = pd.read_sql_query(\"SELECT * FROM Album\", conn)\n",
        "\n",
        "# Ver las primeras filas del DataFrame\n",
        "df._____()"
      ]
    },
    {
      "cell_type": "markdown",
      "metadata": {
        "id": "gC6478dQ1bLo"
      },
      "source": [
        "## Extracción desde otras fuentes"
      ]
    },
    {
      "cell_type": "markdown",
      "metadata": {
        "id": "CN9JjyzGBEZs"
      },
      "source": [
        "### APIs\n",
        "\n",
        "Una API, o Interfaz de Programación de Aplicaciones, es un conjunto de reglas y protocolos que especifica cómo deben interactuar dos aplicaciones de software.\n",
        "\n",
        "Al trabajar con datos, especialmente en el contexto de la ciencia de datos, a menudo necesitaremos extraer datos de diversas fuentes.\n",
        "\n",
        "Las APIs son esenciales en este proceso porque permiten a los científicos de datos acceder a datos alojados en aplicaciones externas de manera programática. Por ejemplo, muchos servicios web (como Twitter, Facebook, Google Maps, entre otros) ofrecen APIs que permiten a los usuarios extraer datos para varios propósitos.\n",
        "\n"
      ]
    },
    {
      "cell_type": "code",
      "execution_count": null,
      "metadata": {
        "colab": {
          "base_uri": "https://localhost:8080/",
          "height": 389
        },
        "id": "gWm8jTm95u4l",
        "outputId": "8c02db62-0e18-4519-9c02-29687f492ecb"
      },
      "outputs": [],
      "source": [
        "# Utilizando la API de datos de Rick y Morty\n",
        "url = \"https://rickandmortyapi.com/api/character\"\n",
        "response = requests.get(url)\n",
        "data_api = response._____()\n",
        "\n",
        "# Convertir el resultado en un DataFrame\n",
        "data_api_df = pd._____(data_api['results'])\n",
        "data_api_df._____()"
      ]
    }
  ],
  "metadata": {
    "colab": {
      "provenance": []
    },
    "kernelspec": {
      "display_name": "Python 3",
      "name": "python3"
    },
    "language_info": {
      "name": "python"
    }
  },
  "nbformat": 4,
  "nbformat_minor": 0
}
